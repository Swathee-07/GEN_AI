{
  "cells": [
    {
      "cell_type": "code",
      "execution_count": 5,
      "metadata": {
        "colab": {
          "base_uri": "https://localhost:8080/"
        },
        "id": "83DxAZjDRfIE",
        "outputId": "f97d4712-44dc-4007-f4e7-2f2bee71de29"
      },
      "outputs": [
        {
          "name": "stderr",
          "output_type": "stream",
          "text": [
            "\n",
            "[notice] A new release of pip is available: 24.2 -> 25.1.1\n",
            "[notice] To update, run: python.exe -m pip install --upgrade pip\n"
          ]
        },
        {
          "name": "stdout",
          "output_type": "stream",
          "text": [
            "Requirement already satisfied: PyPDF2 in c:\\users\\swath\\appdata\\local\\programs\\python\\python313\\lib\\site-packages (3.0.1)\n",
            "Extracted text: sustainability\n",
            "Review\n",
            "Impact of Climate Change on Agriculture and Its Mitigation\n",
            "Strategies: A Review\n",
            "Gurdeep Singh Malhi1, Manpreet Kaur2and Prashant Kaushik3,4,*\n",
            "/gid00030/gid00035/gid00032/gid00030/gid00038/gid00001/gid00033/gid00042/gid00045 /gid00001\n",
            "/gid00048/gid00043/gid00031/gid00028/gid00047/gid00032/gid00046\n",
            "Citation: Malhi, G.S.; Kaur, M.;\n",
            "Kaushik, P . Impact of Climate Change\n",
            "on Agriculture and Its Mitigation\n",
            "Strategies: A Review. Sustainability\n",
            "2021 ,13, 1318. https://doi.org/\n",
            "10.33 …\n"
          ]
        }
      ],
      "source": [
        "!pip install PyPDF2\n",
        "\n",
        "import PyPDF2\n",
        "\n",
        "def pdf_to_text(pdf_path):\n",
        "    text = \"\"\n",
        "    with open(pdf_path, \"rb\") as f:\n",
        "        reader = PyPDF2.PdfReader(f)\n",
        "        for page in reader.pages:\n",
        "            text += page.extract_text() + \"\\n\"\n",
        "    return text\n",
        "\n",
        "raw_text = pdf_to_text(r\"C:\\Users\\swath\\OneDrive\\Desktop\\NexTurn-Daily-Task-&-Assignment\\Task\\Article.pdf\")\n",
        "# Optionally, save the text\n",
        "with open(\"research_article.txt\", \"w\",encoding=\"utf-8\") as out:\n",
        "    out.write(raw_text)\n",
        "\n",
        "print(\"Extracted text:\", raw_text[:500], \"…\")\n"
      ]
    },
    {
      "cell_type": "code",
      "execution_count": 8,
      "metadata": {
        "id": "S1ZCOI0sqn-I"
      },
      "outputs": [],
      "source": [
        "# Read the research article from a text file\n",
        "with open(r\"C:\\Users\\swath\\OneDrive\\Desktop\\NexTurn-Daily-Task-&-Assignment\\Task\\research_article.txt\", \"r\", encoding=\"utf-8\") as file:\n",
        "    research_article = file.read()\n"
      ]
    },
    {
      "cell_type": "code",
      "execution_count": 9,
      "metadata": {
        "id": "lIIqC8tEl6dX"
      },
      "outputs": [],
      "source": [
        "prompt = f\"\"\"\n",
        "You are a scientific research assistant. Please summarize the following research article into a single paragraph (100 words) including:\n",
        "\n",
        "- Background Introduction\n",
        "- Research Objective\n",
        "- Method\n",
        "- Results\n",
        "- Key Takeaways\n",
        "\n",
        "ARTICLE:\n",
        "{research_article}\n",
        "\"\"\"\n"
      ]
    },
    {
      "cell_type": "code",
      "execution_count": null,
      "metadata": {
        "colab": {
          "base_uri": "https://localhost:8080/"
        },
        "id": "YEwpY_s9FqQS",
        "outputId": "b0499cb8-c5b5-4697-f56b-3cec70c56641"
      },
      "outputs": [
        {
          "name": "stdout",
          "output_type": "stream",
          "text": [
            "\n",
            "📦 Processing chunk 1/41...\n",
            "🔍 Full API Response: {'id': 'chatcmpl-bb25c295-0f07-4341-95e2-2d2df994c646', 'object': 'chat.completion', 'created': 1753428528, 'model': 'llama3-8b-8192', 'choices': [{'index': 0, 'message': {'role': 'assistant', 'content': 'Here is a summary of the research article in structured form:\\n\\n**Background Introduction**\\n\\nClimate change is a global threat to food and nutritional security, with rising greenhouse gas emissions and temperatures affecting the environment, economy, and human health. The increasing concentration of CO2, a major greenhouse gas, is a major concern.\\n\\n**Research Objective**\\n\\nThe objective of this review is to assess the impact of climate change on agriculture and its mitigation strategies.\\n\\n**Method**\\n\\nThe authors conducted a comprehensive review of existing literature on the impact of climate change on agriculture and its mitigation strategies. The review includes studies published in peer-reviewed journals and conference proceedings.\\n\\n**Results**\\n\\nThe review highlights the following key findings:\\n\\n* Climate change is affecting agricultural productivity, food security, and the livelihoods of farmers worldwide.\\n* Rising temperatures, changing precipitation patterns, and increased frequency of extreme weather events are altering crop growth, yield, and quality.\\n* Climate change also affects the distribution and prevalence of pests and diseases, leading to reduced crop yields and decreased food security.\\n* Mitigation strategies, such as climate-resilient agriculture, agroforestry, and conservation agriculture, can help reduce the negative impacts of climate change on agriculture.\\n\\n**Key Takeaways**\\n\\n1. Climate change is a significant threat to global food and nutritional security.\\n2. Rising temperatures, changing precipitation patterns, and extreme weather events are affecting agricultural productivity and food security.\\n3. Mitigation strategies, such as climate-resilient agriculture, agroforestry, and conservation agriculture, can help reduce the negative impacts of climate change on agriculture.\\n4. Climate change requires immediate attention and action to ensure food security and sustainable agriculture practices.\\n\\nNote: This summary is based on the abstract and introduction of the research article, and does not include the full text of the article.'}, 'logprobs': None, 'finish_reason': 'stop'}], 'usage': {'queue_time': 0.41656029699999997, 'prompt_tokens': 623, 'prompt_time': 0.247953263, 'completion_tokens': 359, 'completion_time': 0.632206592, 'total_tokens': 982, 'total_time': 0.880159855}, 'usage_breakdown': None, 'system_fingerprint': 'fp_0fb809dba3', 'x_groq': {'id': 'req_01k107r31afqd8yn3gjcx755q4'}, 'service_tier': 'on_demand'}\n",
            "\n",
            "📦 Processing chunk 2/41...\n",
            "🔍 Full API Response: {'id': 'chatcmpl-c6da98e2-2440-4cb7-af63-66427206bb0e', 'object': 'chat.completion', 'created': 1753428530, 'model': 'llama3-8b-8192', 'choices': [{'index': 0, 'message': {'role': 'assistant', 'content': 'Here is a summary of the research article in structured form:\\n\\n**Background Introduction**\\n\\nClimate change is a significant global challenge that is characterized by changes in average meteorological elements, such as precipitation and temperature. The concentration of greenhouse gases, such as methane, carbon dioxide, and nitrous oxide, has increased significantly since 1750, with carbon dioxide emissions rising to 36.14 billion metric tons in 2014.\\n\\n**Research Objective**\\n\\nThe objective of this paper is to review the literature on climate change, its causes, projections, and impacts on the agriculture sector, including its effects on plant physiological and metabolic activities, pest infestation, and weed flora.\\n\\n**Method**\\n\\nThe review paper analyzed existing literature on climate change, its causes, and its impacts on agriculture.\\n\\n**Results**\\n\\nThe results of the review paper highlight the significant impact of climate change on agriculture, including:\\n\\n* Increased temperature leading to increased crop respiration rate and evapotranspiration, higher pest infestation, and reduced crop duration.\\n* Climate change affecting microbial population and enzymatic activities in soil.\\n* Shift in weed flora and potential implications for growth and plant productivity.\\n* Potential economic impact of climate change on agriculture.\\n\\n**Key Takeaways**\\n\\n* Climate change is a significant global challenge that is characterized by changes in average meteorological elements.\\n* The concentration of greenhouse gases has increased significantly since 1750, with carbon dioxide emissions rising to 36.14 billion metric tons in 2014.\\n* Climate change has significant impacts on agriculture, including increased temperature, changed microbial population, and shifted weed flora, which can affect plant growth and productivity, pest infestation, and economic impact.\\n* Mitigation strategies are essential to address the impacts of climate change on agriculture.'}, 'logprobs': None, 'finish_reason': 'stop'}], 'usage': {'queue_time': 0.818357244, 'prompt_tokens': 527, 'prompt_time': 0.161515557, 'completion_tokens': 349, 'completion_time': 0.426328233, 'total_tokens': 876, 'total_time': 0.58784379}, 'usage_breakdown': None, 'system_fingerprint': 'fp_5b339000ab', 'x_groq': {'id': 'req_01k107r4cnfqd9mc312d9rxjd3'}, 'service_tier': 'on_demand'}\n",
            "\n",
            "📦 Processing chunk 3/41...\n",
            "🔍 Full API Response: {'id': 'chatcmpl-7c7ce175-3166-4021-a51d-82cdb5d4f764', 'object': 'chat.completion', 'created': 1753428531, 'model': 'llama3-8b-8192', 'choices': [{'index': 0, 'message': {'role': 'assistant', 'content': 'Here is the summary of the research article in structured form:\\n\\n**Background Introduction**\\n\\nThe article discusses the impact of greenhouse gases, particularly CO2, on global warming. It highlights the increasing concentration of CO2 in the atmosphere from 315.98 ppm in 1959 to 411.43 ppm in 2019. The article also mentions the contribution of fossil fuels and industrial processes to CO2 emissions, as well as other greenhouse gases such as methane, nitrous oxide, and fluorinated gases.\\n\\n**Research Objective**\\n\\nThe objective of the article is to discuss the impact of CO2 emissions on global warming, including the historical context of emissions and regional variations.\\n\\n**Method**\\n\\nThe article presents an analysis of historical CO2 emissions from 1751 to 2020, broken down by region and country. It also discusses the potential positive and negative impacts of climate change on agriculture and water resources.\\n\\n**Results**\\n\\nThe article presents the following findings:\\n\\n* The world has emitted around 1.5 trillion metric tons of CO2 since 1751.\\n* Europe is the largest contributor to CO2 emissions, followed by Asia and North America.\\n* The USA is the largest contributor to CO2 emissions (399 billion metric tons), and has contributed 25% of total historical emissions since 1751.\\n* China is the second-largest contributor to CO2 emissions (200 billion metric tons).\\n* Africa contributes only 3% of global cumulative CO2 emissions due to low per-capita emissions.\\n* Countries like Brazil and India, which have lower historical emissions, are significant contributors to current emissions.\\n\\n**Key Takeaways**\\n\\n* CO2 emissions have increased significantly since 1751, contributing to global warming.\\n* Regional variations in emissions exist, with Europe being the largest contributor, followed by Asia and North America.\\n* The USA and China are the largest contributors to CO2 emissions.\\n* Africa has low per-capita emissions, but countries like Brazil and India are significant contributors to current emissions.\\n* Climate change has both positive (e.g., increased crop fertility and decreased energy requirements) and negative impacts (e.g., water resource depletion) on agriculture and water resources.'}, 'logprobs': None, 'finish_reason': 'stop'}], 'usage': {'queue_time': 0.26319982799999997, 'prompt_tokens': 571, 'prompt_time': 0.064051832, 'completion_tokens': 434, 'completion_time': 0.61125554, 'total_tokens': 1005, 'total_time': 0.675307372}, 'usage_breakdown': None, 'system_fingerprint': 'fp_5b339000ab', 'x_groq': {'id': 'req_01k107r5vrfqdt3fyrv9mkc0bf'}, 'service_tier': 'on_demand'}\n",
            "\n",
            "📦 Processing chunk 4/41...\n",
            "🔍 Full API Response: {'id': 'chatcmpl-0661a5ca-b051-432f-b560-2fee20a02d42', 'object': 'chat.completion', 'created': 1753428532, 'model': 'llama3-8b-8192', 'choices': [{'index': 0, 'message': {'role': 'assistant', 'content': 'Here is a summary of the research article in structured form:\\n\\n**Background Introduction**\\n\\n* The concentration of greenhouse gases, particularly carbon dioxide (CO2), has been increasing in the atmosphere since the Industrial Revolution.\\n* The Third World countries have been negatively impacted by this trend, while developed countries have continued to benefit until 1980.\\n* Climate change is expected to become a severe problem in the 21st century, affecting both rich and developing countries.\\n\\n**Research Objective**\\n\\n* The article does not explicitly state a research objective, but rather presents an overview of the impact of greenhouse gases on the global temperature.\\n\\n**Method**\\n\\n* The article does not describe a specific research method, but rather presents data and trends on the increase in CO2 concentration and global temperature.\\n\\n**Results**\\n\\n* The CO2 concentration in the atmosphere has increased significantly since 1850, with a global average temperature increase of 1-1.2°C.\\n* The global average temperature has increased by 1.32°C since 1951-1980, with a higher increase in land temperatures (1.32°C) compared to ocean temperatures (0.59°C).\\n* The Northern Hemisphere has shown a higher average temperature increase than the Southern Hemisphere (1.31°C vs 0.91°C).\\n* The polar regions have experienced extreme temperature increases, leading to glacial melting and detrimental effects.\\n\\n**Key Takeaways**\\n\\n* The increase in greenhouse gases has significant implications for global temperature rises.\\n* Both rich and developing countries will face negative externalities due to climate change in the 21st century.\\n* The global temperature has increased by 1-1.2°C since 1850, with a higher increase in land temperatures than ocean temperatures.\\n* The polar regions are experiencing extreme temperature increases, leading to glacial melting and detrimental effects.'}, 'logprobs': None, 'finish_reason': 'stop'}], 'usage': {'queue_time': 0.46731649700000005, 'prompt_tokens': 553, 'prompt_time': 0.291671973, 'completion_tokens': 367, 'completion_time': 0.727736491, 'total_tokens': 920, 'total_time': 1.019408464}, 'usage_breakdown': None, 'system_fingerprint': 'fp_0fb809dba3', 'x_groq': {'id': 'req_01k107r6w9fqdswj21qeekkyab'}, 'service_tier': 'on_demand'}\n",
            "\n",
            "📦 Processing chunk 5/41...\n",
            "🔍 Full API Response: {'id': 'chatcmpl-c99d97d1-ca64-4cea-bae4-4feeeaaf64d3', 'object': 'chat.completion', 'created': 1753428534, 'model': 'llama3-8b-8192', 'choices': [{'index': 0, 'message': {'role': 'assistant', 'content': 'Here is a summary of the research article in structured form:\\n\\n**Background Introduction**\\n\\nThe article highlights the urgent need to reduce greenhouse gas emissions to limit the global temperature increase to 2°C relative to pre-industrial levels. Developed countries are responsible for a significant contribution to global temperature rise, sea-ice reduction, and upper-ocean warming, while developing countries have a smaller contribution.\\n\\n**Research Objective**\\n\\nThe article does not explicitly state a research objective, but it appears to be discussing the projected impacts of climate change on temperature and rainfall patterns in various regions, particularly in the Punjab province of Pakistan and India.\\n\\n**Method**\\n\\nThe article cites various studies and projections from organizations such as the Intergovernmental Panel on Climate Change (IPCC) and the Providing Regional Climates for Impact Studies (PRECIS) project. It also references simulations done for the future mid-century (2040-2069).\\n\\n**Results**\\n\\n* The average global temperature is expected to rise by 2°C by 2100 and 4.2°C by 2400.\\n* The risk of surpassing 2°C by 2100 is increasing due to stabilizing radiative forces above 400 ppm of CO2.\\n* It is exceptionally unlikely that the temperature will rise by 2°C if anthropogenic emissions were ceased tomorrow.\\n* Projections for the Punjab province of Pakistan show increased minimum and maximum temperatures in the Kharif and rabi seasons, with average temperature rises of 1-3.3°C and 2-3°C, respectively.\\n* Projections for Punjab, India show temperature minimums and maximums rising by the middle and end of the 21st century.\\n* Extreme incidents of high temperature (heat waves) during March to June and low temperatures (frost) during December and January are also predicted.\\n\\n**Key Takeaways**\\n\\n* Climate change is projected to worsen in the upcoming future, with significant impacts on temperature and rainfall patterns in various regions.\\n* Developed countries have a significant contribution to global temperature rise, and reducing greenhouse gas emissions is crucial to limiting the temperature increase to 2°C.\\n* Projections for specific regions, such as Punjab, Pakistan, and India, show increased temperatures and extreme weather events, highlighting the need for climate change mitigation and adaptation strategies.'}, 'logprobs': None, 'finish_reason': 'stop'}], 'usage': {'queue_time': 0.41687906799999996, 'prompt_tokens': 565, 'prompt_time': 0.250175343, 'completion_tokens': 460, 'completion_time': 0.857908191, 'total_tokens': 1025, 'total_time': 1.108083534}, 'usage_breakdown': None, 'system_fingerprint': 'fp_0fb809dba3', 'x_groq': {'id': 'req_01k107r8dqfqe9daxmw37hggac'}, 'service_tier': 'on_demand'}\n",
            "\n",
            "📦 Processing chunk 6/41...\n",
            "🔍 Full API Response: {'id': 'chatcmpl-461f9257-a509-4fcb-857c-c39b6b2aeb8e', 'object': 'chat.completion', 'created': 1753428536, 'model': 'llama3-8b-8192', 'choices': [{'index': 0, 'message': {'role': 'assistant', 'content': 'Here is a summary of the research article in a structured form:\\n\\n**Background Introduction**\\n\\nThe article discusses the projected changes in temperature and precipitation patterns due to global warming. Climate change is expected to lead to more frequent and intense weather extremes, with significant regional variations.\\n\\n**Research Objective**\\n\\nThe objective of the study is to analyze the projected changes in temperature and precipitation patterns globally and regionally, and to discuss the potential impacts of these changes on various ecosystems and human activities.\\n\\n**Method**\\n\\nThe study uses historical climate data from 1901-2000 and future climate projections to analyze changes in temperature and precipitation patterns. The data is analyzed to identify regional variations and potential impacts on ecosystems and human activities.\\n\\n**Results**\\n\\nThe study finds that:\\n\\n* Global precipitation anomalies show a positive trend, with an absolute change of 0.78 inches from 1901-2015.\\n* Temperature and precipitation extremes are more likely to occur in the near future due to global warming.\\n* Regional variations in precipitation patterns are observed, with increased rainfall in South and East Asia, and decreased rainfall in southern Africa and South America.\\n* The Indus river basin is projected to show uneven variations in precipitation patterns spatially and seasonally.\\n* The northeastern United States is projected to experience more warm extremes and strengthened precipitation extremes.\\n* Higher emissions will intensify these changes.\\n\\n**Key Takeaways**\\n\\n* Global warming is expected to lead to more frequent and intense weather extremes.\\n* Regional variations in precipitation patterns will have significant impacts on ecosystems and human activities, including agriculture, soil erosion, and cropland areas.\\n* Developing nations are particularly vulnerable to the detrimental effects of precipitation anomalies on agriculture.\\n* Higher emissions will exacerbate these changes, leading to more severe consequences.'}, 'logprobs': None, 'finish_reason': 'stop'}], 'usage': {'queue_time': 0.705659423, 'prompt_tokens': 493, 'prompt_time': 0.151464665, 'completion_tokens': 348, 'completion_time': 0.430626238, 'total_tokens': 841, 'total_time': 0.582090903}, 'usage_breakdown': None, 'system_fingerprint': 'fp_5b339000ab', 'x_groq': {'id': 'req_01k107ra09es3btcbwc9sp270e'}, 'service_tier': 'on_demand'}\n",
            "\n",
            "📦 Processing chunk 7/41...\n",
            "🔍 Full API Response: {'id': 'chatcmpl-350ccc9a-602b-4c81-b6c5-32ebd7c6f46d', 'object': 'chat.completion', 'created': 1753428539, 'model': 'llama3-8b-8192', 'choices': [{'index': 0, 'message': {'role': 'assistant', 'content': 'Here is a summary of the research article in structured form:\\n\\n**Background Introduction**\\n\\n* The article discusses the impact of climate change on agriculture and food security.\\n* It highlights the need to increase agricultural production by 60% by 2050 to meet the food and nutritional requirements of the population.\\n* Climate change is expected to have a significant impact on agricultural production, with projected reductions in cereal production.\\n\\n**Research Objective**\\n\\n* The objective of the review is to consolidate studies on the impact of climate change on crop yields, weed infestations, and economic consequences from 1998-2020.\\n* Additionally, the review discusses mitigation and adaptation strategies to combat climate change.\\n\\n**Method**\\n\\n* A systematic review of the literature was conducted using PRISMA (Preferred Reporting Items for Systematic Meta-Analysis).\\n* Studies were searched on Google Scholar using keywords related to climate change and agriculture.\\n\\n**Results**\\n\\n* The review found that climate change has an adverse impact on agricultural production, with projected reductions in cereal production.\\n* Climate change also affects crop yields, weed infestations, and economic consequences.\\n* The article highlights the need for mitigation and adaptation strategies to combat climate change.\\n\\n**Key Takeaways**\\n\\n* Climate change poses a significant threat to food security and agricultural production.\\n* There is a need for an annual increase in agricultural production by 60% by 2050 to meet the food and nutritional requirements of the population.\\n* Climate change has an adverse impact on crop yields, weed infestations, and economic consequences.\\n* Mitigation and adaptation strategies are necessary to combat the effects of climate change on agriculture.'}, 'logprobs': None, 'finish_reason': 'stop'}], 'usage': {'queue_time': 2.490154357, 'prompt_tokens': 532, 'prompt_time': 0.14852803, 'completion_tokens': 325, 'completion_time': 0.573978378, 'total_tokens': 857, 'total_time': 0.722506408}, 'usage_breakdown': None, 'system_fingerprint': 'fp_0fb809dba3', 'x_groq': {'id': 'req_01k107rbayes48kv7qt8r8kz5w'}, 'service_tier': 'on_demand'}\n",
            "\n",
            "📦 Processing chunk 8/41...\n",
            "🔍 Full API Response: {'error': {'message': 'Rate limit reached for model `llama3-8b-8192` in organization `org_01k0wktbdpfdr9007c3m9re71f` service tier `on_demand` on tokens per minute (TPM): Limit 6000, Used 5459, Requested 571. Please try again in 295ms. Need more tokens? Upgrade to Dev Tier today at https://console.groq.com/settings/billing', 'type': 'tokens', 'code': 'rate_limit_exceeded'}}\n",
            "\n",
            "📦 Processing chunk 9/41...\n",
            "🔍 Full API Response: {'error': {'message': 'Rate limit reached for model `llama3-8b-8192` in organization `org_01k0wktbdpfdr9007c3m9re71f` service tier `on_demand` on tokens per minute (TPM): Limit 6000, Used 5450, Requested 571. Please try again in 207.999999ms. Need more tokens? Upgrade to Dev Tier today at https://console.groq.com/settings/billing', 'type': 'tokens', 'code': 'rate_limit_exceeded'}}\n",
            "\n",
            "📦 Processing chunk 10/41...\n",
            "🔍 Full API Response: {'error': {'message': 'Rate limit reached for model `llama3-8b-8192` in organization `org_01k0wktbdpfdr9007c3m9re71f` service tier `on_demand` on tokens per minute (TPM): Limit 6000, Used 5442, Requested 569. Please try again in 110ms. Need more tokens? Upgrade to Dev Tier today at https://console.groq.com/settings/billing', 'type': 'tokens', 'code': 'rate_limit_exceeded'}}\n",
            "\n",
            "📦 Processing chunk 11/41...\n",
            "🔍 Full API Response: {'error': {'message': 'Rate limit reached for model `llama3-8b-8192` in organization `org_01k0wktbdpfdr9007c3m9re71f` service tier `on_demand` on tokens per minute (TPM): Limit 6000, Used 5434, Requested 572. Please try again in 55ms. Need more tokens? Upgrade to Dev Tier today at https://console.groq.com/settings/billing', 'type': 'tokens', 'code': 'rate_limit_exceeded'}}\n",
            "\n",
            "📦 Processing chunk 12/41...\n",
            "🔍 Full API Response: {'id': 'chatcmpl-bc975dbc-0313-467c-b5b8-deadf80f27b4', 'object': 'chat.completion', 'created': 1753428541, 'model': 'llama3-8b-8192', 'choices': [{'index': 0, 'message': {'role': 'assistant', 'content': \"Here is a summary of the research article in structured form:\\n\\n**Background Introduction**\\n\\nClimate change is expected to have significant impacts on agriculture production worldwide. Rising levels of CO2 are expected to increase crop yields, but this benefit may be offset by elevated temperatures and altered precipitation patterns.\\n\\n**Research Objective**\\n\\nThe objective of this study is to examine the potential impacts of climate change on agriculture production, including the effects of rising CO2 levels, elevated temperatures, and altered precipitation patterns.\\n\\n**Method**\\n\\nThe study used a sensitivity analysis with the CERES (crop estimation through resources and environmental synthesis) model to examine the potential impacts of climate change on wheat and rice yields in northwest India.\\n\\n**Results**\\n\\nThe results of the study indicate that:\\n\\n* Wheat and rice yields in northwest India have the potential to increase by 28% and 15%, respectively, at double the levels of CO2.\\n* However, the increased thermal stress due to elevated temperatures associated with high CO2 levels nearly cancels out the positive impact on yield.\\n* If irrigation scheduling followed at present is practiced even under the combined effect of enhanced CO2 and thermal stress, there will be an increased yield in both rice and wheat by 21% and 4%, respectively.\\n\\n**Key Takeaways**\\n\\n* Climate change is likely to have significant impacts on agriculture production, including both positive and negative effects.\\n* The pace of climate change determines its impact, and environmental policies must be dynamic and implemented with adaptation and flexibility.\\n* Regional changes in climate will vary, with some areas experiencing increases in agricultural production and others experiencing decreases.\\n* Developing countries' tropical regions are likely to be particularly vulnerable to the detrimental impacts of climate change.\\n* Implementing effective irrigation scheduling practices can help to mitigate the negative impacts of climate change on agriculture production.\"}, 'logprobs': None, 'finish_reason': 'stop'}], 'usage': {'queue_time': 0.775623204, 'prompt_tokens': 479, 'prompt_time': 0.127026197, 'completion_tokens': 358, 'completion_time': 0.439278158, 'total_tokens': 837, 'total_time': 0.566304355}, 'usage_breakdown': None, 'system_fingerprint': 'fp_5b339000ab', 'x_groq': {'id': 'req_01k107rewje99rhva1wdp6vcb8'}, 'service_tier': 'on_demand'}\n",
            "\n",
            "📦 Processing chunk 13/41...\n",
            "🔍 Full API Response: {'error': {'message': 'Rate limit reached for model `llama3-8b-8192` in organization `org_01k0wktbdpfdr9007c3m9re71f` service tier `on_demand` on tokens per minute (TPM): Limit 6000, Used 6119, Requested 574. Please try again in 6.936s. Need more tokens? Upgrade to Dev Tier today at https://console.groq.com/settings/billing', 'type': 'tokens', 'code': 'rate_limit_exceeded'}}\n",
            "\n",
            "📦 Processing chunk 14/41...\n",
            "🔍 Full API Response: {'error': {'message': 'Rate limit reached for model `llama3-8b-8192` in organization `org_01k0wktbdpfdr9007c3m9re71f` service tier `on_demand` on tokens per minute (TPM): Limit 6000, Used 6111, Requested 577. Please try again in 6.882999999s. Need more tokens? Upgrade to Dev Tier today at https://console.groq.com/settings/billing', 'type': 'tokens', 'code': 'rate_limit_exceeded'}}\n",
            "\n",
            "📦 Processing chunk 15/41...\n",
            "🔍 Full API Response: {'error': {'message': 'Rate limit reached for model `llama3-8b-8192` in organization `org_01k0wktbdpfdr9007c3m9re71f` service tier `on_demand` on tokens per minute (TPM): Limit 6000, Used 6003, Requested 570. Please try again in 5.734s. Need more tokens? Upgrade to Dev Tier today at https://console.groq.com/settings/billing', 'type': 'tokens', 'code': 'rate_limit_exceeded'}}\n",
            "\n",
            "📦 Processing chunk 16/41...\n",
            "🔍 Full API Response: {'error': {'message': 'Rate limit reached for model `llama3-8b-8192` in organization `org_01k0wktbdpfdr9007c3m9re71f` service tier `on_demand` on tokens per minute (TPM): Limit 6000, Used 5996, Requested 570. Please try again in 5.654s. Need more tokens? Upgrade to Dev Tier today at https://console.groq.com/settings/billing', 'type': 'tokens', 'code': 'rate_limit_exceeded'}}\n",
            "\n",
            "📦 Processing chunk 17/41...\n",
            "🔍 Full API Response: {'error': {'message': 'Rate limit reached for model `llama3-8b-8192` in organization `org_01k0wktbdpfdr9007c3m9re71f` service tier `on_demand` on tokens per minute (TPM): Limit 6000, Used 5988, Requested 574. Please try again in 5.619s. Need more tokens? Upgrade to Dev Tier today at https://console.groq.com/settings/billing', 'type': 'tokens', 'code': 'rate_limit_exceeded'}}\n",
            "\n",
            "📦 Processing chunk 18/41...\n",
            "🔍 Full API Response: {'error': {'message': 'Rate limit reached for model `llama3-8b-8192` in organization `org_01k0wktbdpfdr9007c3m9re71f` service tier `on_demand` on tokens per minute (TPM): Limit 6000, Used 5980, Requested 572. Please try again in 5.518s. Need more tokens? Upgrade to Dev Tier today at https://console.groq.com/settings/billing', 'type': 'tokens', 'code': 'rate_limit_exceeded'}}\n",
            "\n",
            "📦 Processing chunk 19/41...\n",
            "🔍 Full API Response: {'error': {'message': 'Rate limit reached for model `llama3-8b-8192` in organization `org_01k0wktbdpfdr9007c3m9re71f` service tier `on_demand` on tokens per minute (TPM): Limit 6000, Used 5972, Requested 571. Please try again in 5.425s. Need more tokens? Upgrade to Dev Tier today at https://console.groq.com/settings/billing', 'type': 'tokens', 'code': 'rate_limit_exceeded'}}\n",
            "\n",
            "📦 Processing chunk 20/41...\n",
            "🔍 Full API Response: {'error': {'message': 'Rate limit reached for model `llama3-8b-8192` in organization `org_01k0wktbdpfdr9007c3m9re71f` service tier `on_demand` on tokens per minute (TPM): Limit 6000, Used 5964, Requested 572. Please try again in 5.354s. Need more tokens? Upgrade to Dev Tier today at https://console.groq.com/settings/billing', 'type': 'tokens', 'code': 'rate_limit_exceeded'}}\n",
            "\n",
            "📦 Processing chunk 21/41...\n",
            "🔍 Full API Response: {'error': {'message': 'Rate limit reached for model `llama3-8b-8192` in organization `org_01k0wktbdpfdr9007c3m9re71f` service tier `on_demand` on tokens per minute (TPM): Limit 6000, Used 5954, Requested 572. Please try again in 5.257s. Need more tokens? Upgrade to Dev Tier today at https://console.groq.com/settings/billing', 'type': 'tokens', 'code': 'rate_limit_exceeded'}}\n",
            "\n",
            "📦 Processing chunk 22/41...\n",
            "🔍 Full API Response: {'error': {'message': 'Rate limit reached for model `llama3-8b-8192` in organization `org_01k0wktbdpfdr9007c3m9re71f` service tier `on_demand` on tokens per minute (TPM): Limit 6000, Used 5946, Requested 572. Please try again in 5.178s. Need more tokens? Upgrade to Dev Tier today at https://console.groq.com/settings/billing', 'type': 'tokens', 'code': 'rate_limit_exceeded'}}\n",
            "\n",
            "📦 Processing chunk 23/41...\n",
            "🔍 Full API Response: {'error': {'message': 'Rate limit reached for model `llama3-8b-8192` in organization `org_01k0wktbdpfdr9007c3m9re71f` service tier `on_demand` on tokens per minute (TPM): Limit 6000, Used 5937, Requested 574. Please try again in 5.101s. Need more tokens? Upgrade to Dev Tier today at https://console.groq.com/settings/billing', 'type': 'tokens', 'code': 'rate_limit_exceeded'}}\n",
            "\n",
            "📦 Processing chunk 24/41...\n",
            "🔍 Full API Response: {'error': {'message': 'Rate limit reached for model `llama3-8b-8192` in organization `org_01k0wktbdpfdr9007c3m9re71f` service tier `on_demand` on tokens per minute (TPM): Limit 6000, Used 5927, Requested 572. Please try again in 4.99s. Need more tokens? Upgrade to Dev Tier today at https://console.groq.com/settings/billing', 'type': 'tokens', 'code': 'rate_limit_exceeded'}}\n",
            "\n",
            "📦 Processing chunk 25/41...\n",
            "🔍 Full API Response: {'error': {'message': 'Rate limit reached for model `llama3-8b-8192` in organization `org_01k0wktbdpfdr9007c3m9re71f` service tier `on_demand` on tokens per minute (TPM): Limit 6000, Used 5913, Requested 572. Please try again in 4.849s. Need more tokens? Upgrade to Dev Tier today at https://console.groq.com/settings/billing', 'type': 'tokens', 'code': 'rate_limit_exceeded'}}\n",
            "\n",
            "📦 Processing chunk 26/41...\n",
            "🔍 Full API Response: {'error': {'message': 'Rate limit reached for model `llama3-8b-8192` in organization `org_01k0wktbdpfdr9007c3m9re71f` service tier `on_demand` on tokens per minute (TPM): Limit 6000, Used 5905, Requested 571. Please try again in 4.752s. Need more tokens? Upgrade to Dev Tier today at https://console.groq.com/settings/billing', 'type': 'tokens', 'code': 'rate_limit_exceeded'}}\n",
            "\n",
            "📦 Processing chunk 27/41...\n",
            "🔍 Full API Response: {'error': {'message': 'Rate limit reached for model `llama3-8b-8192` in organization `org_01k0wktbdpfdr9007c3m9re71f` service tier `on_demand` on tokens per minute (TPM): Limit 6000, Used 5897, Requested 571. Please try again in 4.672s. Need more tokens? Upgrade to Dev Tier today at https://console.groq.com/settings/billing', 'type': 'tokens', 'code': 'rate_limit_exceeded'}}\n",
            "\n",
            "📦 Processing chunk 28/41...\n",
            "🔍 Full API Response: {'error': {'message': 'Rate limit reached for model `llama3-8b-8192` in organization `org_01k0wktbdpfdr9007c3m9re71f` service tier `on_demand` on tokens per minute (TPM): Limit 6000, Used 5888, Requested 574. Please try again in 4.614s. Need more tokens? Upgrade to Dev Tier today at https://console.groq.com/settings/billing', 'type': 'tokens', 'code': 'rate_limit_exceeded'}}\n",
            "\n",
            "📦 Processing chunk 29/41...\n",
            "🔍 Full API Response: {'error': {'message': 'Rate limit reached for model `llama3-8b-8192` in organization `org_01k0wktbdpfdr9007c3m9re71f` service tier `on_demand` on tokens per minute (TPM): Limit 6000, Used 5879, Requested 576. Please try again in 4.543s. Need more tokens? Upgrade to Dev Tier today at https://console.groq.com/settings/billing', 'type': 'tokens', 'code': 'rate_limit_exceeded'}}\n",
            "\n",
            "📦 Processing chunk 30/41...\n",
            "🔍 Full API Response: {'error': {'message': 'Rate limit reached for model `llama3-8b-8192` in organization `org_01k0wktbdpfdr9007c3m9re71f` service tier `on_demand` on tokens per minute (TPM): Limit 6000, Used 5871, Requested 575. Please try again in 4.459s. Need more tokens? Upgrade to Dev Tier today at https://console.groq.com/settings/billing', 'type': 'tokens', 'code': 'rate_limit_exceeded'}}\n",
            "\n",
            "📦 Processing chunk 31/41...\n",
            "🔍 Full API Response: {'error': {'message': 'Rate limit reached for model `llama3-8b-8192` in organization `org_01k0wktbdpfdr9007c3m9re71f` service tier `on_demand` on tokens per minute (TPM): Limit 6000, Used 5861, Requested 573. Please try again in 4.333s. Need more tokens? Upgrade to Dev Tier today at https://console.groq.com/settings/billing', 'type': 'tokens', 'code': 'rate_limit_exceeded'}}\n",
            "\n",
            "📦 Processing chunk 32/41...\n",
            "🔍 Full API Response: {'error': {'message': 'Rate limit reached for model `llama3-8b-8192` in organization `org_01k0wktbdpfdr9007c3m9re71f` service tier `on_demand` on tokens per minute (TPM): Limit 6000, Used 5851, Requested 575. Please try again in 4.26s. Need more tokens? Upgrade to Dev Tier today at https://console.groq.com/settings/billing', 'type': 'tokens', 'code': 'rate_limit_exceeded'}}\n",
            "\n",
            "📦 Processing chunk 33/41...\n",
            "🔍 Full API Response: {'error': {'message': 'Rate limit reached for model `llama3-8b-8192` in organization `org_01k0wktbdpfdr9007c3m9re71f` service tier `on_demand` on tokens per minute (TPM): Limit 6000, Used 5844, Requested 575. Please try again in 4.184s. Need more tokens? Upgrade to Dev Tier today at https://console.groq.com/settings/billing', 'type': 'tokens', 'code': 'rate_limit_exceeded'}}\n",
            "\n",
            "📦 Processing chunk 34/41...\n",
            "🔍 Full API Response: {'error': {'message': 'Rate limit reached for model `llama3-8b-8192` in organization `org_01k0wktbdpfdr9007c3m9re71f` service tier `on_demand` on tokens per minute (TPM): Limit 6000, Used 5837, Requested 576. Please try again in 4.125s. Need more tokens? Upgrade to Dev Tier today at https://console.groq.com/settings/billing', 'type': 'tokens', 'code': 'rate_limit_exceeded'}}\n",
            "\n",
            "📦 Processing chunk 35/41...\n",
            "🔍 Full API Response: {'error': {'message': 'Rate limit reached for model `llama3-8b-8192` in organization `org_01k0wktbdpfdr9007c3m9re71f` service tier `on_demand` on tokens per minute (TPM): Limit 6000, Used 5829, Requested 574. Please try again in 4.03s. Need more tokens? Upgrade to Dev Tier today at https://console.groq.com/settings/billing', 'type': 'tokens', 'code': 'rate_limit_exceeded'}}\n",
            "\n",
            "📦 Processing chunk 36/41...\n",
            "🔍 Full API Response: {'error': {'message': 'Rate limit reached for model `llama3-8b-8192` in organization `org_01k0wktbdpfdr9007c3m9re71f` service tier `on_demand` on tokens per minute (TPM): Limit 6000, Used 5821, Requested 573. Please try again in 3.937s. Need more tokens? Upgrade to Dev Tier today at https://console.groq.com/settings/billing', 'type': 'tokens', 'code': 'rate_limit_exceeded'}}\n",
            "\n",
            "📦 Processing chunk 37/41...\n",
            "🔍 Full API Response: {'error': {'message': 'Rate limit reached for model `llama3-8b-8192` in organization `org_01k0wktbdpfdr9007c3m9re71f` service tier `on_demand` on tokens per minute (TPM): Limit 6000, Used 5811, Requested 574. Please try again in 3.85s. Need more tokens? Upgrade to Dev Tier today at https://console.groq.com/settings/billing', 'type': 'tokens', 'code': 'rate_limit_exceeded'}}\n",
            "\n",
            "📦 Processing chunk 38/41...\n",
            "🔍 Full API Response: {'error': {'message': 'Rate limit reached for model `llama3-8b-8192` in organization `org_01k0wktbdpfdr9007c3m9re71f` service tier `on_demand` on tokens per minute (TPM): Limit 6000, Used 5803, Requested 574. Please try again in 3.768s. Need more tokens? Upgrade to Dev Tier today at https://console.groq.com/settings/billing', 'type': 'tokens', 'code': 'rate_limit_exceeded'}}\n",
            "\n",
            "📦 Processing chunk 39/41...\n",
            "🔍 Full API Response: {'error': {'message': 'Rate limit reached for model `llama3-8b-8192` in organization `org_01k0wktbdpfdr9007c3m9re71f` service tier `on_demand` on tokens per minute (TPM): Limit 6000, Used 5796, Requested 573. Please try again in 3.683999999s. Need more tokens? Upgrade to Dev Tier today at https://console.groq.com/settings/billing', 'type': 'tokens', 'code': 'rate_limit_exceeded'}}\n",
            "\n",
            "📦 Processing chunk 40/41...\n",
            "🔍 Full API Response: {'error': {'message': 'Rate limit reached for model `llama3-8b-8192` in organization `org_01k0wktbdpfdr9007c3m9re71f` service tier `on_demand` on tokens per minute (TPM): Limit 6000, Used 5787, Requested 574. Please try again in 3.608s. Need more tokens? Upgrade to Dev Tier today at https://console.groq.com/settings/billing', 'type': 'tokens', 'code': 'rate_limit_exceeded'}}\n",
            "\n",
            "📦 Processing chunk 41/41...\n",
            "🔍 Full API Response: {'error': {'message': 'Rate limit reached for model `llama3-8b-8192` in organization `org_01k0wktbdpfdr9007c3m9re71f` service tier `on_demand` on tokens per minute (TPM): Limit 6000, Used 5778, Requested 531. Please try again in 3.088s. Need more tokens? Upgrade to Dev Tier today at https://console.groq.com/settings/billing', 'type': 'tokens', 'code': 'rate_limit_exceeded'}}\n",
            "\n",
            "✅ Summary saved to summary_output.txt\n"
          ]
        }
      ],
      "source": [
        "import requests\n",
        "\n",
        "# ✅ Your API key and endpoint\n",
        "from cryptography.fernet import Fernet\n",
        "\n",
        "# Load secret key\n",
        "with open(\"secret.key\", \"rb\") as key_file:\n",
        "    key = key_file.read()\n",
        "\n",
        "# Load encrypted API key\n",
        "with open(\"encrypted_api.key\", \"rb\") as enc_file:\n",
        "    encrypted_key = enc_file.read()\n",
        "\n",
        "# Decrypt the API key\n",
        "fernet = Fernet(key)\n",
        "api_key = fernet.decrypt(encrypted_key).decode()\n",
        "\n",
        "# Use `api_key` instead of hardcoding\n",
        "print(\"Decrypted API Key:\", api_key)  # (you can remove this after testing)\n",
        "\n",
        "ENDPOINT = \"https://api.groq.com/openai/v1/chat/completions\"\n",
        "\n",
        "# ✅ Function to call Groq API\n",
        "def generate_response(prompt):\n",
        "    headers = {\n",
        "        \"Authorization\": f\"Bearer {api_key}\",\n",
        "        \"Content-Type\": \"application/json\"\n",
        "    }\n",
        "\n",
        "    payload = {\n",
        "        \"model\": \"llama3-8b-8192\",\n",
        "        \"messages\": [\n",
        "            {\"role\": \"system\", \"content\": \"You are a helpful assistant.\"},\n",
        "            {\"role\": \"user\", \"content\": prompt}\n",
        "        ],\n",
        "        \"temperature\": 0.7\n",
        "    }\n",
        "\n",
        "    try:\n",
        "        response = requests.post(ENDPOINT, headers=headers, json=payload)\n",
        "        result = response.json()\n",
        "\n",
        "        print(\"🔍 Full API Response:\", result)\n",
        "\n",
        "        if 'choices' in result:\n",
        "            return result['choices'][0]['message']['content']\n",
        "        elif 'error' in result:\n",
        "            raise ValueError(f\"❌ API Error: {result['error']['message']}\")\n",
        "        else:\n",
        "            raise ValueError(f\"❌ Unexpected API Response Format: {result}\")\n",
        "\n",
        "    except requests.exceptions.RequestException as e:\n",
        "        return f\"❌ Network or connection error: {str(e)}\"\n",
        "    except Exception as e:\n",
        "        return f\"❌ Something went wrong: {str(e)}\"\n",
        "\n",
        "# ✅ Load article content from file\n",
        "with open(\"research_article.txt\", \"r\", encoding=\"utf-8\") as file:\n",
        "    article_text = file.read()\n",
        "\n",
        "# ✅ Prompt template\n",
        "def create_prompt(article_chunk):\n",
        "    return f\"\"\"\n",
        "You are a scientific research assistant. Please summarize the following research article in structured form:\n",
        "\n",
        "- Background Introduction\n",
        "- Research Objective\n",
        "- Method\n",
        "- Results\n",
        "- Key Takeaways\n",
        "\n",
        "ARTICLE:\n",
        "{article_chunk}\n",
        "\"\"\"\n",
        "\n",
        "# ✅ Split into safe-sized chunks (adjust as needed)\n",
        "chunk_size = 2000  # characters per chunk\n",
        "chunks = [article_text[i:i+chunk_size] for i in range(0, len(article_text), chunk_size)]\n",
        "\n",
        "# ✅ Generate summary for each chunk\n",
        "full_summary = \"\"\n",
        "for i, chunk in enumerate(chunks):\n",
        "    print(f\"\\n📦 Processing chunk {i+1}/{len(chunks)}...\")\n",
        "    prompt = create_prompt(chunk)\n",
        "    summary = generate_response(prompt)\n",
        "    full_summary += f\"\\n### Chunk {i+1} Summary ###\\n{summary}\\n\"\n",
        "\n",
        "# ✅ Save final summary to file\n",
        "with open(\"summary_output.txt\", \"w\", encoding=\"utf-8\") as out_file:\n",
        "    out_file.write(full_summary)\n",
        "\n",
        "print(\"\\n✅ Summary saved to summary_output.txt\")\n"
      ]
    },
    {
      "cell_type": "code",
      "execution_count": 14,
      "metadata": {
        "colab": {
          "base_uri": "https://localhost:8080/"
        },
        "id": "8-mzr1b9bCT2",
        "outputId": "77469e48-7150-465b-b2a4-6b5083230fb2"
      },
      "outputs": [
        {
          "name": "stdout",
          "output_type": "stream",
          "text": [
            "🔍 Full API Response: {'id': 'chatcmpl-c5c7302a-298c-41e0-a8c7-d1928b336eba', 'object': 'chat.completion', 'created': 1753428560, 'model': 'llama3-8b-8192', 'choices': [{'index': 0, 'message': {'role': 'assistant', 'content': 'Here is a summary of the research article in structured form:\\n\\n**Background Introduction:**\\nThe research articles reviewed focus on the impacts of precision agriculture practices, such as laser land leveling, zero-tillage wheat, site-specific nutrient management, and direct seeded rice planting, on the economic and environmental sustainability of rice-wheat systems in the Indo-Gangetic Plains of India.\\n\\n**Research Objective:**\\nThe overall objective of the studies is to evaluate the economic and environmental benefits of precision agriculture practices in rice-wheat systems, with a focus on smallholder farmers in the Indo-Gangetic Plains of India.\\n\\n**Method:**\\nThe studies employed a range of research methods, including field surveys, experiments, and case studies. Most of the studies used a combination of quantitative and qualitative data collection and analysis methods.\\n\\n**Results:**\\n\\n* Laser land leveling in rice-wheat systems has been shown to increase yields, reduce water consumption, and improve soil health (Aryal et al., 2015).\\n* Zero-tillage wheat has been found to improve soil health, reduce erosion, and increase farmer profits (Aryal et al., 2015).\\n* Site-specific nutrient management has been shown to improve crop yields, reduce nutrient losses, and increase farmer profits (Singh et al., 2015).\\n* Direct seeded rice planting has been found to reduce water consumption, improve soil health, and increase farmer profits (Bhullar et al., 2018).\\n* Drip irrigation has been shown to reduce water consumption, improve crop yields, and increase farmer profits in vegetable production (Narayanamoorthy et al., 2017).\\n\\n**Key Takeaways:**\\n\\n* Precision agriculture practices, such as laser land leveling, zero-tillage wheat, and site-specific nutrient management, can improve the economic and environmental sustainability of rice-wheat systems in the Indo-Gangetic Plains of India.\\n* Direct seeded rice planting and drip irrigation can also contribute to more sustainable agricultural practices in the region.\\n* Smallholder farmers in the Indo-Gangetic Plains of India can benefit from adopting these precision agriculture practices, which can improve their livelihoods and contribute to climate change mitigation and adaptation.'}, 'logprobs': None, 'finish_reason': 'stop'}], 'usage': {'queue_time': 1.020489167, 'prompt_tokens': 651, 'prompt_time': 0.227745973, 'completion_tokens': 437, 'completion_time': 0.770395452, 'total_tokens': 1088, 'total_time': 0.998141425}, 'usage_breakdown': None, 'system_fingerprint': 'fp_0fb809dba3', 'x_groq': {'id': 'req_01k107s17aesa9mtj00as6j6xa'}, 'service_tier': 'on_demand'}\n",
            "📝 Summary:\n",
            " Here is a summary of the research article in structured form:\n",
            "\n",
            "**Background Introduction:**\n",
            "The research articles reviewed focus on the impacts of precision agriculture practices, such as laser land leveling, zero-tillage wheat, site-specific nutrient management, and direct seeded rice planting, on the economic and environmental sustainability of rice-wheat systems in the Indo-Gangetic Plains of India.\n",
            "\n",
            "**Research Objective:**\n",
            "The overall objective of the studies is to evaluate the economic and environmental benefits of precision agriculture practices in rice-wheat systems, with a focus on smallholder farmers in the Indo-Gangetic Plains of India.\n",
            "\n",
            "**Method:**\n",
            "The studies employed a range of research methods, including field surveys, experiments, and case studies. Most of the studies used a combination of quantitative and qualitative data collection and analysis methods.\n",
            "\n",
            "**Results:**\n",
            "\n",
            "* Laser land leveling in rice-wheat systems has been shown to increase yields, reduce water consumption, and improve soil health (Aryal et al., 2015).\n",
            "* Zero-tillage wheat has been found to improve soil health, reduce erosion, and increase farmer profits (Aryal et al., 2015).\n",
            "* Site-specific nutrient management has been shown to improve crop yields, reduce nutrient losses, and increase farmer profits (Singh et al., 2015).\n",
            "* Direct seeded rice planting has been found to reduce water consumption, improve soil health, and increase farmer profits (Bhullar et al., 2018).\n",
            "* Drip irrigation has been shown to reduce water consumption, improve crop yields, and increase farmer profits in vegetable production (Narayanamoorthy et al., 2017).\n",
            "\n",
            "**Key Takeaways:**\n",
            "\n",
            "* Precision agriculture practices, such as laser land leveling, zero-tillage wheat, and site-specific nutrient management, can improve the economic and environmental sustainability of rice-wheat systems in the Indo-Gangetic Plains of India.\n",
            "* Direct seeded rice planting and drip irrigation can also contribute to more sustainable agricultural practices in the region.\n",
            "* Smallholder farmers in the Indo-Gangetic Plains of India can benefit from adopting these precision agriculture practices, which can improve their livelihoods and contribute to climate change mitigation and adaptation.\n"
          ]
        }
      ],
      "source": [
        "# Generate summary using Groq API\n",
        "summary = generate_response(prompt)\n",
        "print(\"📝 Summary:\\n\", summary)\n"
      ]
    },
    {
      "cell_type": "code",
      "execution_count": 12,
      "metadata": {
        "id": "CUAcW9vwrClK"
      },
      "outputs": [],
      "source": [
        "with open(\"summary_output.txt\", \"w\", encoding=\"utf-8\") as out_file:\n",
        "    out_file.write(summary)\n"
      ]
    },
    {
      "cell_type": "code",
      "execution_count": 13,
      "metadata": {
        "colab": {
          "base_uri": "https://localhost:8080/"
        },
        "id": "zFw6TtEEYENi",
        "outputId": "b89ae905-7948-48d3-937a-9f5aa6cdd5a6"
      },
      "outputs": [
        {
          "name": "stdout",
          "output_type": "stream",
          "text": [
            "Requirement already satisfied: groq in c:\\users\\swath\\appdata\\local\\programs\\python\\python313\\lib\\site-packages (0.30.0)\n",
            "Requirement already satisfied: anyio<5,>=3.5.0 in c:\\users\\swath\\appdata\\local\\programs\\python\\python313\\lib\\site-packages (from groq) (4.9.0)\n",
            "Requirement already satisfied: distro<2,>=1.7.0 in c:\\users\\swath\\appdata\\local\\programs\\python\\python313\\lib\\site-packages (from groq) (1.9.0)\n",
            "Requirement already satisfied: httpx<1,>=0.23.0 in c:\\users\\swath\\appdata\\local\\programs\\python\\python313\\lib\\site-packages (from groq) (0.28.1)\n",
            "Requirement already satisfied: pydantic<3,>=1.9.0 in c:\\users\\swath\\appdata\\local\\programs\\python\\python313\\lib\\site-packages (from groq) (2.11.3)\n",
            "Requirement already satisfied: sniffio in c:\\users\\swath\\appdata\\local\\programs\\python\\python313\\lib\\site-packages (from groq) (1.3.1)\n",
            "Requirement already satisfied: typing-extensions<5,>=4.10 in c:\\users\\swath\\appdata\\local\\programs\\python\\python313\\lib\\site-packages (from groq) (4.12.2)\n",
            "Requirement already satisfied: idna>=2.8 in c:\\users\\swath\\appdata\\local\\programs\\python\\python313\\lib\\site-packages (from anyio<5,>=3.5.0->groq) (3.10)\n",
            "Requirement already satisfied: certifi in c:\\users\\swath\\appdata\\local\\programs\\python\\python313\\lib\\site-packages (from httpx<1,>=0.23.0->groq) (2024.8.30)\n",
            "Requirement already satisfied: httpcore==1.* in c:\\users\\swath\\appdata\\local\\programs\\python\\python313\\lib\\site-packages (from httpx<1,>=0.23.0->groq) (1.0.9)\n",
            "Requirement already satisfied: h11>=0.16 in c:\\users\\swath\\appdata\\local\\programs\\python\\python313\\lib\\site-packages (from httpcore==1.*->httpx<1,>=0.23.0->groq) (0.16.0)\n",
            "Requirement already satisfied: annotated-types>=0.6.0 in c:\\users\\swath\\appdata\\local\\programs\\python\\python313\\lib\\site-packages (from pydantic<3,>=1.9.0->groq) (0.7.0)\n",
            "Requirement already satisfied: pydantic-core==2.33.1 in c:\\users\\swath\\appdata\\local\\programs\\python\\python313\\lib\\site-packages (from pydantic<3,>=1.9.0->groq) (2.33.1)\n",
            "Requirement already satisfied: typing-inspection>=0.4.0 in c:\\users\\swath\\appdata\\local\\programs\\python\\python313\\lib\\site-packages (from pydantic<3,>=1.9.0->groq) (0.4.0)\n"
          ]
        },
        {
          "name": "stderr",
          "output_type": "stream",
          "text": [
            "\n",
            "[notice] A new release of pip is available: 24.2 -> 25.1.1\n",
            "[notice] To update, run: python.exe -m pip install --upgrade pip\n"
          ]
        }
      ],
      "source": [
        "!pip install groq"
      ]
    },
    {
      "cell_type": "code",
      "execution_count": null,
      "metadata": {
        "colab": {
          "base_uri": "https://localhost:8080/"
        },
        "id": "Dr4rAAWNrF98",
        "outputId": "e85ed827-6dbb-4b16-bb85-27bc6e79cbe8"
      },
      "outputs": [
        {
          "name": "stdout",
          "output_type": "stream",
          "text": [
            "🟢 ONE-SHOT SUMMARY:\n",
            "\n",
            "Here is a summary of the article:\n",
            "\n",
            "Title: Impact of Climate Change on Agriculture and Its Mitigation Strategies: A Review\n",
            "\n",
            "The article reviews the current state of climate change and its impact on agriculture, highlighting the need for sustainable agriculture practices to mitigate the effects of climate change. Climate change is causing significant changes in global temperatures, precipitation patterns, and weather extremes, which can have devastating effects on crop yields, food security, and economic stability.\n",
            "\n",
            "The article discusses the causes of climate change, including the increase in greenhouse gases such as carbon dioxide, methane, and nitrous oxide, and its projected impacts on agriculture, including changes in plant growth, pest infestation, and weed populations. It also reviews the current and potential mitigation strategies, including climate-smart agriculture, crop rotation, and soil conservation.\n",
            "\n",
            "The article concludes that climate change is a significant threat to global food security and economic stability, and that urgent action is needed to develop and implement effective mitigation strategies to reduce the impacts of climate change on agriculture.\n"
          ]
        }
      ],
      "source": [
        "# Install Groq SDK if not already done\n",
        "# !pip install groq\n",
        "\n",
        "from groq import Groq\n",
        "import os\n",
        "\n",
        "# Step 1: Set up API key\n",
        "from encrypt_key import get_decrypted_key  # 👈 Import from your helper\n",
        "client = Groq(api_key=get_decrypted_key())  # 👈 Use securely decrypted key\n",
        "\n",
        "# Step 2: Read your long research article from file (same as Zero-Shot)\n",
        "with open(\"input_article.txt\", \"r\", encoding=\"utf-8\") as f:\n",
        "    lines = f.readlines()\n",
        "    target_article = \"\".join(lines[:100])\n",
        "\n",
        "# Step 3: One-shot example (article + summary)\n",
        "example_article = \"\"\"\n",
        "The growing concern over climate change has spurred innovation in sustainable energy technologies. One promising area is the development of algae-based biofuels. These biofuels are produced by extracting oils from algae that grow in ponds, bioreactors, or photobioreactors. Algae can produce up to 30 times more energy per acre than other biofuel crops and require less freshwater and agricultural land. The research team designed a scalable system to cultivate algae and extract usable oils efficiently.\n",
        "\n",
        "The study used a strain of microalgae called Nannochloropsis, cultivated in a closed photobioreactor with controlled CO₂ injection. Over a span of 30 days, the algae growth rate, lipid content, and harvesting efficiency were recorded. The researchers also experimented with light intensities and nutrient combinations to optimize biomass yield.\n",
        "\n",
        "Results showed that optimized light and nutrient levels led to a 40% increase in oil yield compared to conventional growth conditions. The final biofuel sample met all ASTM standards for diesel substitutes. The process had a net positive energy balance, making it feasible for scale-up.\n",
        "\n",
        "This study demonstrates the potential for algae biofuels as a sustainable alternative to fossil fuels, particularly in countries with limited land resources. Further research is needed on long-term cost reduction and waste reuse.\n",
        "\"\"\"\n",
        "\n",
        "example_summary = \"\"\"\n",
        "This study explores the potential of algae-based biofuels as a sustainable energy solution to climate change. Using Nannochloropsis algae cultivated in photobioreactors, the researchers optimized light and nutrients to boost oil yield by 40%. The resulting biofuel met diesel standards and achieved a positive energy balance. The findings highlight the viability of algae fuels for countries with limited land, though economic scalability needs further work.\n",
        "\"\"\"\n",
        "\n",
        "# Step 4: Construct One-Shot prompt\n",
        "prompt = f\"\"\"\n",
        "You are a research assistant that summarizes research papers.\n",
        "\n",
        "Here is an example:\n",
        "Article:\n",
        "{example_article}\n",
        "\n",
        "Summary:\n",
        "{example_summary}\n",
        "\n",
        "Now summarize this article:\n",
        "{target_article}\n",
        "\"\"\"\n",
        "\n",
        "# Step 5: Call Groq LLM\n",
        "response = client.chat.completions.create(\n",
        "    model=\"llama3-8b-8192\",  # Recommended current model\n",
        "    messages=[{\"role\": \"user\", \"content\": prompt}],\n",
        "    temperature=0.5\n",
        ")\n",
        "\n",
        "# Step 6: Display One-Shot Output\n",
        "print(\"🟢 ONE-SHOT SUMMARY:\\n\")\n",
        "print(response.choices[0].message.content)\n"
      ]
    },
    {
      "cell_type": "code",
      "execution_count": null,
      "metadata": {
        "colab": {
          "base_uri": "https://localhost:8080/"
        },
        "id": "UWEtRBYeCtc1",
        "outputId": "db836586-e30c-4de5-e4eb-ff92835b626f"
      },
      "outputs": [
        {
          "name": "stdout",
          "output_type": "stream",
          "text": [
            "🟢 FEW-SHOT SUMMARY:\n",
            "\n",
            "Here is a summary of the article \"Impact of Climate Change on Agriculture and Its Mitigation Strategies: A Review\" in a single paragraph (≤150 words):\n",
            "\n",
            "The article reviews the impact of climate change on agriculture, highlighting its causes, projections, and effects on plant growth, pest infestation, and crop duration. Climate change is defined as significant changes in average meteorological elements, primarily caused by increased human activities that alter the global atmosphere's composition. The concentration of greenhouse gases, particularly CO2, has risen significantly, leading to increased temperatures and altered crop growth patterns. The article discusses the implications of climate change on agriculture, including increased crop respiration rates, evapotranspiration, and pest infestation, as well as reduced crop duration. It also reviews mitigation strategies, such as climate-smart agriculture, and their economic impact. The article concludes by emphasizing the need for effective mitigation strategies to address the challenges posed by climate change on agriculture.\n",
            "\n",
            "Key takeaway: Climate change has significant implications for agriculture, including altered crop growth patterns, increased pest infestation, and reduced crop duration. Effective mitigation strategies, such as climate-smart agriculture, are necessary to address these challenges and ensure global food security.\n"
          ]
        }
      ],
      "source": [
        "from groq import Groq\n",
        "import os\n",
        "\n",
        "# Step 1: Set your API key\n",
        "from encrypt_key import get_decrypted_key\n",
        "client = Groq(api_key=get_decrypted_key())\n",
        "\n",
        "# Step 2: Load your original long article from a file (first 100 lines to avoid token limits)\n",
        "with open(\"input_article.txt\", \"r\", encoding=\"utf-8\") as f:\n",
        "    lines = f.readlines()\n",
        "    target_article = \"\".join(lines[:100])  # Limit to ~100 lines to stay within free-tier tokens\n",
        "\n",
        "# Step 3: Add two example article-summary pairs for Few-Shot prompting\n",
        "example1_article = \"\"\"The growing concern over climate change has spurred innovation in sustainable energy technologies. One promising area is the development of algae-based biofuels. These biofuels are produced by extracting oils from algae that grow in ponds, bioreactors, or photobioreactors. Algae can produce up to 30 times more energy per acre than other biofuel crops and require less freshwater and agricultural land. The study used a strain of microalgae called Nannochloropsis, cultivated in a closed photobioreactor with controlled CO₂ injection. The researchers experimented with light intensities and nutrient combinations to optimize biomass yield. The final biofuel sample met all ASTM standards for diesel substitutes and achieved a positive energy balance.\"\"\"\n",
        "example1_summary = \"\"\"This study explores algae-based biofuels using Nannochloropsis algae. Optimized light and nutrients increased oil yield by 40%. The resulting fuel met diesel standards and showed a positive energy balance, showing promise for scalable sustainable energy.\"\"\"\n",
        "example2_article = \"\"\"Sleep deprivation is a growing public health issue, especially among adolescents. This study aimed to investigate the impact of screen time on sleep quality in high school students. Researchers surveyed 1,000 students, tracking screen use duration and bedtime habits. The results revealed that students with more than 4 hours of daily screen time slept 1.5 hours less on average and reported more disturbances. The study recommends limiting device use before bedtime and introducing awareness campaigns in schools.\"\"\"\n",
        "example2_summary = \"\"\"The study finds that over 4 hours of daily screen time negatively affects adolescent sleep, reducing sleep duration and quality. It suggests limiting screen exposure before bed and implementing school-based awareness efforts.\"\"\"\n",
        "\n",
        "# Step 4: Build the Few-Shot prompt\n",
        "prompt = f\"\"\"You are a research assistant that summarizes research articles into a single paragraph (≤150 words). Your summary must include: background, objective, method, results, and key takeaway. Example 1: Article: {example1_article} Summary: {example1_summary} Example 2: Article: {example2_article} Summary: {example2_summary} Now summarize this article: {target_article}\"\"\"\n",
        "\n",
        "# Step 5: Run the model call\n",
        "response = client.chat.completions.create(\n",
        "    model=\"llama3-8b-8192\",  # Use smaller model to stay within token limits\n",
        "    messages=[{\"role\": \"user\", \"content\": prompt}],\n",
        "    temperature=0.5\n",
        ")\n",
        "\n",
        "# Step 6: Output\n",
        "print(\"🟢 FEW-SHOT SUMMARY:\\n\")\n",
        "print(response.choices[0].message.content)\n"
      ]
    },
    {
      "cell_type": "code",
      "execution_count": null,
      "metadata": {},
      "outputs": [],
      "source": []
    }
  ],
  "metadata": {
    "colab": {
      "provenance": []
    },
    "kernelspec": {
      "display_name": "Python 3",
      "name": "python3"
    },
    "language_info": {
      "codemirror_mode": {
        "name": "ipython",
        "version": 3
      },
      "file_extension": ".py",
      "mimetype": "text/x-python",
      "name": "python",
      "nbconvert_exporter": "python",
      "pygments_lexer": "ipython3",
      "version": "3.13.0"
    }
  },
  "nbformat": 4,
  "nbformat_minor": 0
}
